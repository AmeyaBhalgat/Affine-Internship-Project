{
 "cells": [
  {
   "cell_type": "code",
   "execution_count": 77,
   "id": "becd1beb",
   "metadata": {},
   "outputs": [],
   "source": [
    "import pandas as pd\n",
    "from sklearn.model_selection import train_test_split\n",
    "from sklearn.preprocessing import StandardScaler\n",
    "from sklearn.ensemble import RandomForestClassifier\n",
    "from sklearn.metrics import accuracy_score, classification_report"
   ]
  },
  {
   "cell_type": "code",
   "execution_count": 78,
   "id": "de5b9219",
   "metadata": {},
   "outputs": [],
   "source": [
    "train_data = pd.read_csv(\"C:/Users/ameya/Downloads/Affine Problem Statement/train.csv\")"
   ]
  },
  {
   "cell_type": "code",
   "execution_count": 79,
   "id": "38e19a49",
   "metadata": {},
   "outputs": [
    {
     "data": {
      "text/plain": [
       "accepts_mercadopago                       0\n",
       "available_quantity                        0\n",
       "avg_gmv_item_domain_30days             3924\n",
       "avg_gmv_item_sel                       3924\n",
       "avg_gmv_seller_bday                    3924\n",
       "avg_qty_orders_item_domain_30days      3924\n",
       "avg_qty_orders_item_sel_30days         3924\n",
       "avg_si_item_sel_30day                  3924\n",
       "benefit                                   1\n",
       "boosted                                   0\n",
       "category_id                               0\n",
       "conversion                                0\n",
       "date                                      0\n",
       "deal_print_id                             0\n",
       "domain_id                                 0\n",
       "etl_version                               0\n",
       "free_shipping                             0\n",
       "fulfillment                               0\n",
       "full_name                                 0\n",
       "health                                    0\n",
       "is_pdp                                81266\n",
       "product_id                           137862\n",
       "item_id                                   0\n",
       "listing_type_id                           0\n",
       "logistic_type                             0\n",
       "main_picture                           3373\n",
       "offset                                    0\n",
       "original_price                            0\n",
       "platform                                  0\n",
       "price                                     0\n",
       "print_position                            0\n",
       "print_server_timestamp                    0\n",
       "qty_items_dom                          3924\n",
       "qty_items_sel                          3924\n",
       "site_id                                   0\n",
       "sold_quantity                             0\n",
       "tags                                      0\n",
       "title                                     0\n",
       "total_asp_item_domain_30days           3924\n",
       "total_asp_item_sel_30days              3924\n",
       "total_gmv_domain_bday                  3924\n",
       "total_gmv_item_30days                  3924\n",
       "total_items_domain                        0\n",
       "total_items_seller                        0\n",
       "total_orders_domain_30days             3924\n",
       "total_orders_item_30days               3924\n",
       "total_orders_sel_30days                3924\n",
       "total_si_domain_30days                 3924\n",
       "total_si_item_30days                   3924\n",
       "total_si_sel_30days                    3924\n",
       "total_visits_domain                       0\n",
       "total_visits_item                         0\n",
       "total_visits_seller                       0\n",
       "uid                                       0\n",
       "user_id                               19534\n",
       "warranty                              43325\n",
       "dtype: int64"
      ]
     },
     "execution_count": 79,
     "metadata": {},
     "output_type": "execute_result"
    }
   ],
   "source": [
    "train_data.isnull().sum()"
   ]
  },
  {
   "cell_type": "code",
   "execution_count": 80,
   "id": "b236ac25",
   "metadata": {},
   "outputs": [],
   "source": [
    "column_name = 'avg_gmv_seller_bday'\n",
    "train_data.dropna(subset=['avg_gmv_seller_bday'], inplace=True)"
   ]
  },
  {
   "cell_type": "code",
   "execution_count": 81,
   "id": "72823b73",
   "metadata": {},
   "outputs": [],
   "source": [
    "train_data['benefit'].fillna(train_data['benefit'].mean(),inplace=True)"
   ]
  },
  {
   "cell_type": "code",
   "execution_count": 82,
   "id": "b1e61aa1",
   "metadata": {},
   "outputs": [
    {
     "data": {
      "text/plain": [
       "accepts_mercadopago                       0\n",
       "available_quantity                        0\n",
       "avg_gmv_item_domain_30days                0\n",
       "avg_gmv_item_sel                          0\n",
       "avg_gmv_seller_bday                       0\n",
       "avg_qty_orders_item_domain_30days         0\n",
       "avg_qty_orders_item_sel_30days            0\n",
       "avg_si_item_sel_30day                     0\n",
       "benefit                                   0\n",
       "boosted                                   0\n",
       "category_id                               0\n",
       "conversion                                0\n",
       "date                                      0\n",
       "deal_print_id                             0\n",
       "domain_id                                 0\n",
       "etl_version                               0\n",
       "free_shipping                             0\n",
       "fulfillment                               0\n",
       "full_name                                 0\n",
       "health                                    0\n",
       "is_pdp                                79159\n",
       "product_id                           135489\n",
       "item_id                                   0\n",
       "listing_type_id                           0\n",
       "logistic_type                             0\n",
       "main_picture                           3356\n",
       "offset                                    0\n",
       "original_price                            0\n",
       "platform                                  0\n",
       "price                                     0\n",
       "print_position                            0\n",
       "print_server_timestamp                    0\n",
       "qty_items_dom                             0\n",
       "qty_items_sel                             0\n",
       "site_id                                   0\n",
       "sold_quantity                             0\n",
       "tags                                      0\n",
       "title                                     0\n",
       "total_asp_item_domain_30days              0\n",
       "total_asp_item_sel_30days                 0\n",
       "total_gmv_domain_bday                     0\n",
       "total_gmv_item_30days                     0\n",
       "total_items_domain                        0\n",
       "total_items_seller                        0\n",
       "total_orders_domain_30days                0\n",
       "total_orders_item_30days                  0\n",
       "total_orders_sel_30days                   0\n",
       "total_si_domain_30days                    0\n",
       "total_si_item_30days                      0\n",
       "total_si_sel_30days                       0\n",
       "total_visits_domain                       0\n",
       "total_visits_item                         0\n",
       "total_visits_seller                       0\n",
       "uid                                       0\n",
       "user_id                               19117\n",
       "warranty                              42117\n",
       "dtype: int64"
      ]
     },
     "execution_count": 82,
     "metadata": {},
     "output_type": "execute_result"
    }
   ],
   "source": [
    "train_data.isnull().sum()"
   ]
  },
  {
   "cell_type": "code",
   "execution_count": 83,
   "id": "fd1d8899",
   "metadata": {},
   "outputs": [
    {
     "data": {
      "text/plain": [
       "False    97078\n",
       "True       600\n",
       "Name: is_pdp, dtype: int64"
      ]
     },
     "execution_count": 83,
     "metadata": {},
     "output_type": "execute_result"
    }
   ],
   "source": [
    "train_data['is_pdp'].value_counts()"
   ]
  },
  {
   "cell_type": "code",
   "execution_count": 92,
   "id": "2e95b67f",
   "metadata": {},
   "outputs": [],
   "source": [
    "train_data_free_listing_type_id = pd.get_dummies(train_data['listing_type_id'])\n",
    "train_data_free_logistic_type = pd.get_dummies(train_data['logistic_type'])"
   ]
  },
  {
   "cell_type": "code",
   "execution_count": 93,
   "id": "9c800575",
   "metadata": {},
   "outputs": [],
   "source": [
    "new_train_data = pd.concat([train_data,train_data_free_listing_type_id,train_data_free_logistic_type],axis=1)"
   ]
  },
  {
   "cell_type": "code",
   "execution_count": 94,
   "id": "f7e0e62a",
   "metadata": {},
   "outputs": [],
   "source": [
    "X = new_train_data[['conversion','available_quantity','avg_gmv_item_domain_30days','avg_gmv_item_sel','avg_gmv_seller_bday',\n",
    "       'avg_qty_orders_item_domain_30days','avg_qty_orders_item_sel_30days',\n",
    "       'avg_si_item_sel_30day','benefit','health','offset', 'original_price','price',\n",
    "       'print_position','qty_items_dom',\n",
    "       'qty_items_sel','sold_quantity','total_asp_item_domain_30days', 'total_asp_item_sel_30days',\n",
    "       'total_gmv_domain_bday', 'total_gmv_item_30days', 'total_items_domain',\n",
    "       'total_items_seller', 'total_orders_domain_30days',\n",
    "       'total_orders_item_30days', 'total_orders_sel_30days',\n",
    "       'total_si_domain_30days', 'total_si_item_30days', 'total_si_sel_30days',\n",
    "       'total_visits_domain', 'total_visits_item', 'total_visits_seller','gold_pro','gold_special','cross_docking','custom','drop_off','fulfillment','not_specified','xd_drop_off']]"
   ]
  },
  {
   "cell_type": "code",
   "execution_count": 97,
   "id": "fde64945",
   "metadata": {},
   "outputs": [],
   "source": [
    "X_new = X.drop(['conversion'], axis=1)"
   ]
  },
  {
   "cell_type": "code",
   "execution_count": 84,
   "id": "b9612873",
   "metadata": {},
   "outputs": [],
   "source": [
    "y = train_data['conversion']"
   ]
  },
  {
   "cell_type": "code",
   "execution_count": 100,
   "id": "6483028f",
   "metadata": {},
   "outputs": [],
   "source": [
    "numeric_features = X_new.select_dtypes(include=[float, int]).columns\n",
    "X_new[numeric_features] = X_new[numeric_features].fillna(X_new[numeric_features].mean())"
   ]
  },
  {
   "cell_type": "code",
   "execution_count": 107,
   "id": "17fc04d0",
   "metadata": {},
   "outputs": [],
   "source": [
    "X_train, X_valid, y_train, y_valid = train_test_split(X_new, y, test_size=0.2, random_state=42)"
   ]
  },
  {
   "cell_type": "code",
   "execution_count": 108,
   "id": "fc1000bc",
   "metadata": {},
   "outputs": [],
   "source": [
    "rf_classifier = RandomForestClassifier(random_state=42)"
   ]
  },
  {
   "cell_type": "code",
   "execution_count": 109,
   "id": "a94140ce",
   "metadata": {},
   "outputs": [
    {
     "data": {
      "text/plain": [
       "RandomForestClassifier(random_state=42)"
      ]
     },
     "execution_count": 109,
     "metadata": {},
     "output_type": "execute_result"
    }
   ],
   "source": [
    "rf_classifier.fit(X_train, y_train)"
   ]
  },
  {
   "cell_type": "code",
   "execution_count": 110,
   "id": "692f1705",
   "metadata": {},
   "outputs": [],
   "source": [
    "y_pred = rf_classifier.predict(X_valid)"
   ]
  },
  {
   "cell_type": "code",
   "execution_count": 111,
   "id": "c5249c64",
   "metadata": {},
   "outputs": [
    {
     "name": "stdout",
     "output_type": "stream",
     "text": [
      "Validation Accuracy: 0.8846414838271884\n",
      "              precision    recall  f1-score   support\n",
      "\n",
      "       False       0.92      0.96      0.94     32081\n",
      "        True       0.30      0.18      0.23      3287\n",
      "\n",
      "    accuracy                           0.88     35368\n",
      "   macro avg       0.61      0.57      0.58     35368\n",
      "weighted avg       0.86      0.88      0.87     35368\n",
      "\n"
     ]
    }
   ],
   "source": [
    "accuracy = accuracy_score(y_valid, y_pred)\n",
    "print(\"Validation Accuracy:\", accuracy)\n",
    "print(classification_report(y_valid, y_pred))"
   ]
  },
  {
   "cell_type": "code",
   "execution_count": 112,
   "id": "23a7b784",
   "metadata": {},
   "outputs": [
    {
     "data": {
      "text/plain": [
       "RandomForestClassifier(random_state=42)"
      ]
     },
     "execution_count": 112,
     "metadata": {},
     "output_type": "execute_result"
    }
   ],
   "source": [
    "rf_classifier.fit(X_new, y)"
   ]
  },
  {
   "cell_type": "code",
   "execution_count": 116,
   "id": "2f0ca805",
   "metadata": {},
   "outputs": [],
   "source": [
    "test_data = pd.read_csv(\"C:/Users/ameya/Downloads/Affine Problem Statement/test.csv\")"
   ]
  },
  {
   "cell_type": "code",
   "execution_count": 118,
   "id": "805cf86c",
   "metadata": {},
   "outputs": [],
   "source": [
    "test_data_free_listing_type_id = pd.get_dummies(test_data['listing_type_id'])\n",
    "test_data_free_logistic_type = pd.get_dummies(test_data['logistic_type'])"
   ]
  },
  {
   "cell_type": "code",
   "execution_count": 119,
   "id": "e5bbf172",
   "metadata": {},
   "outputs": [],
   "source": [
    "new_test_data = pd.concat([test_data,test_data_free_listing_type_id,test_data_free_logistic_type],axis=1)"
   ]
  },
  {
   "cell_type": "code",
   "execution_count": 125,
   "id": "55cffb71",
   "metadata": {},
   "outputs": [],
   "source": [
    "X_test = new_test_data[['available_quantity','avg_gmv_item_domain_30days','avg_gmv_item_sel','avg_gmv_seller_bday',\n",
    "       'avg_qty_orders_item_domain_30days','avg_qty_orders_item_sel_30days',\n",
    "       'avg_si_item_sel_30day','health','offset', 'original_price','price',\n",
    "       'print_position','qty_items_dom',\n",
    "       'qty_items_sel','sold_quantity','total_asp_item_domain_30days', 'total_asp_item_sel_30days',\n",
    "       'total_gmv_domain_bday', 'total_gmv_item_30days', 'total_items_domain',\n",
    "       'total_items_seller', 'total_orders_domain_30days',\n",
    "       'total_orders_item_30days', 'total_orders_sel_30days',\n",
    "       'total_si_domain_30days', 'total_si_item_30days', 'total_si_sel_30days',\n",
    "       'total_visits_domain', 'total_visits_item', 'total_visits_seller','gold_pro','gold_special','cross_docking','custom','drop_off','fulfillment','not_specified','xd_drop_off','ROW_ID']]"
   ]
  },
  {
   "cell_type": "code",
   "execution_count": 126,
   "id": "c38acd93",
   "metadata": {},
   "outputs": [
    {
     "name": "stderr",
     "output_type": "stream",
     "text": [
      "C:\\Users\\ameya\\AppData\\Local\\Temp\\ipykernel_4332\\2497963811.py:2: SettingWithCopyWarning: \n",
      "A value is trying to be set on a copy of a slice from a DataFrame.\n",
      "Try using .loc[row_indexer,col_indexer] = value instead\n",
      "\n",
      "See the caveats in the documentation: https://pandas.pydata.org/pandas-docs/stable/user_guide/indexing.html#returning-a-view-versus-a-copy\n",
      "  X_test[numeric_features] = X_test[numeric_features].fillna(X_test[numeric_features].mean())\n",
      "C:\\Users\\ameya\\AppData\\Local\\Temp\\ipykernel_4332\\2497963811.py:2: SettingWithCopyWarning: \n",
      "A value is trying to be set on a copy of a slice from a DataFrame.\n",
      "Try using .loc[row_indexer,col_indexer] = value instead\n",
      "\n",
      "See the caveats in the documentation: https://pandas.pydata.org/pandas-docs/stable/user_guide/indexing.html#returning-a-view-versus-a-copy\n",
      "  X_test[numeric_features] = X_test[numeric_features].fillna(X_test[numeric_features].mean())\n",
      "C:\\Users\\ameya\\AppData\\Local\\Temp\\ipykernel_4332\\2497963811.py:2: SettingWithCopyWarning: \n",
      "A value is trying to be set on a copy of a slice from a DataFrame.\n",
      "Try using .loc[row_indexer,col_indexer] = value instead\n",
      "\n",
      "See the caveats in the documentation: https://pandas.pydata.org/pandas-docs/stable/user_guide/indexing.html#returning-a-view-versus-a-copy\n",
      "  X_test[numeric_features] = X_test[numeric_features].fillna(X_test[numeric_features].mean())\n",
      "C:\\Users\\ameya\\AppData\\Local\\Temp\\ipykernel_4332\\2497963811.py:2: SettingWithCopyWarning: \n",
      "A value is trying to be set on a copy of a slice from a DataFrame.\n",
      "Try using .loc[row_indexer,col_indexer] = value instead\n",
      "\n",
      "See the caveats in the documentation: https://pandas.pydata.org/pandas-docs/stable/user_guide/indexing.html#returning-a-view-versus-a-copy\n",
      "  X_test[numeric_features] = X_test[numeric_features].fillna(X_test[numeric_features].mean())\n",
      "C:\\Users\\ameya\\AppData\\Local\\Temp\\ipykernel_4332\\2497963811.py:2: SettingWithCopyWarning: \n",
      "A value is trying to be set on a copy of a slice from a DataFrame.\n",
      "Try using .loc[row_indexer,col_indexer] = value instead\n",
      "\n",
      "See the caveats in the documentation: https://pandas.pydata.org/pandas-docs/stable/user_guide/indexing.html#returning-a-view-versus-a-copy\n",
      "  X_test[numeric_features] = X_test[numeric_features].fillna(X_test[numeric_features].mean())\n",
      "C:\\Users\\ameya\\AppData\\Local\\Temp\\ipykernel_4332\\2497963811.py:2: SettingWithCopyWarning: \n",
      "A value is trying to be set on a copy of a slice from a DataFrame.\n",
      "Try using .loc[row_indexer,col_indexer] = value instead\n",
      "\n",
      "See the caveats in the documentation: https://pandas.pydata.org/pandas-docs/stable/user_guide/indexing.html#returning-a-view-versus-a-copy\n",
      "  X_test[numeric_features] = X_test[numeric_features].fillna(X_test[numeric_features].mean())\n",
      "C:\\Users\\ameya\\AppData\\Local\\Temp\\ipykernel_4332\\2497963811.py:2: SettingWithCopyWarning: \n",
      "A value is trying to be set on a copy of a slice from a DataFrame.\n",
      "Try using .loc[row_indexer,col_indexer] = value instead\n",
      "\n",
      "See the caveats in the documentation: https://pandas.pydata.org/pandas-docs/stable/user_guide/indexing.html#returning-a-view-versus-a-copy\n",
      "  X_test[numeric_features] = X_test[numeric_features].fillna(X_test[numeric_features].mean())\n",
      "C:\\Users\\ameya\\AppData\\Local\\Temp\\ipykernel_4332\\2497963811.py:2: SettingWithCopyWarning: \n",
      "A value is trying to be set on a copy of a slice from a DataFrame.\n",
      "Try using .loc[row_indexer,col_indexer] = value instead\n",
      "\n",
      "See the caveats in the documentation: https://pandas.pydata.org/pandas-docs/stable/user_guide/indexing.html#returning-a-view-versus-a-copy\n",
      "  X_test[numeric_features] = X_test[numeric_features].fillna(X_test[numeric_features].mean())\n",
      "C:\\Users\\ameya\\AppData\\Local\\Temp\\ipykernel_4332\\2497963811.py:2: SettingWithCopyWarning: \n",
      "A value is trying to be set on a copy of a slice from a DataFrame.\n",
      "Try using .loc[row_indexer,col_indexer] = value instead\n",
      "\n",
      "See the caveats in the documentation: https://pandas.pydata.org/pandas-docs/stable/user_guide/indexing.html#returning-a-view-versus-a-copy\n",
      "  X_test[numeric_features] = X_test[numeric_features].fillna(X_test[numeric_features].mean())\n",
      "C:\\Users\\ameya\\AppData\\Local\\Temp\\ipykernel_4332\\2497963811.py:2: SettingWithCopyWarning: \n",
      "A value is trying to be set on a copy of a slice from a DataFrame.\n",
      "Try using .loc[row_indexer,col_indexer] = value instead\n",
      "\n",
      "See the caveats in the documentation: https://pandas.pydata.org/pandas-docs/stable/user_guide/indexing.html#returning-a-view-versus-a-copy\n",
      "  X_test[numeric_features] = X_test[numeric_features].fillna(X_test[numeric_features].mean())\n",
      "C:\\Users\\ameya\\AppData\\Local\\Temp\\ipykernel_4332\\2497963811.py:2: SettingWithCopyWarning: \n",
      "A value is trying to be set on a copy of a slice from a DataFrame.\n",
      "Try using .loc[row_indexer,col_indexer] = value instead\n",
      "\n",
      "See the caveats in the documentation: https://pandas.pydata.org/pandas-docs/stable/user_guide/indexing.html#returning-a-view-versus-a-copy\n",
      "  X_test[numeric_features] = X_test[numeric_features].fillna(X_test[numeric_features].mean())\n",
      "C:\\Users\\ameya\\AppData\\Local\\Temp\\ipykernel_4332\\2497963811.py:2: SettingWithCopyWarning: \n",
      "A value is trying to be set on a copy of a slice from a DataFrame.\n",
      "Try using .loc[row_indexer,col_indexer] = value instead\n",
      "\n",
      "See the caveats in the documentation: https://pandas.pydata.org/pandas-docs/stable/user_guide/indexing.html#returning-a-view-versus-a-copy\n",
      "  X_test[numeric_features] = X_test[numeric_features].fillna(X_test[numeric_features].mean())\n",
      "C:\\Users\\ameya\\AppData\\Local\\Temp\\ipykernel_4332\\2497963811.py:2: SettingWithCopyWarning: \n",
      "A value is trying to be set on a copy of a slice from a DataFrame.\n",
      "Try using .loc[row_indexer,col_indexer] = value instead\n",
      "\n",
      "See the caveats in the documentation: https://pandas.pydata.org/pandas-docs/stable/user_guide/indexing.html#returning-a-view-versus-a-copy\n",
      "  X_test[numeric_features] = X_test[numeric_features].fillna(X_test[numeric_features].mean())\n",
      "C:\\Users\\ameya\\AppData\\Local\\Temp\\ipykernel_4332\\2497963811.py:2: SettingWithCopyWarning: \n",
      "A value is trying to be set on a copy of a slice from a DataFrame.\n",
      "Try using .loc[row_indexer,col_indexer] = value instead\n",
      "\n",
      "See the caveats in the documentation: https://pandas.pydata.org/pandas-docs/stable/user_guide/indexing.html#returning-a-view-versus-a-copy\n",
      "  X_test[numeric_features] = X_test[numeric_features].fillna(X_test[numeric_features].mean())\n",
      "C:\\Users\\ameya\\AppData\\Local\\Temp\\ipykernel_4332\\2497963811.py:2: SettingWithCopyWarning: \n",
      "A value is trying to be set on a copy of a slice from a DataFrame.\n",
      "Try using .loc[row_indexer,col_indexer] = value instead\n",
      "\n",
      "See the caveats in the documentation: https://pandas.pydata.org/pandas-docs/stable/user_guide/indexing.html#returning-a-view-versus-a-copy\n",
      "  X_test[numeric_features] = X_test[numeric_features].fillna(X_test[numeric_features].mean())\n",
      "C:\\Users\\ameya\\AppData\\Local\\Temp\\ipykernel_4332\\2497963811.py:2: SettingWithCopyWarning: \n",
      "A value is trying to be set on a copy of a slice from a DataFrame.\n",
      "Try using .loc[row_indexer,col_indexer] = value instead\n",
      "\n",
      "See the caveats in the documentation: https://pandas.pydata.org/pandas-docs/stable/user_guide/indexing.html#returning-a-view-versus-a-copy\n",
      "  X_test[numeric_features] = X_test[numeric_features].fillna(X_test[numeric_features].mean())\n",
      "C:\\Users\\ameya\\AppData\\Local\\Temp\\ipykernel_4332\\2497963811.py:2: SettingWithCopyWarning: \n",
      "A value is trying to be set on a copy of a slice from a DataFrame.\n",
      "Try using .loc[row_indexer,col_indexer] = value instead\n",
      "\n",
      "See the caveats in the documentation: https://pandas.pydata.org/pandas-docs/stable/user_guide/indexing.html#returning-a-view-versus-a-copy\n",
      "  X_test[numeric_features] = X_test[numeric_features].fillna(X_test[numeric_features].mean())\n",
      "C:\\Users\\ameya\\AppData\\Local\\Temp\\ipykernel_4332\\2497963811.py:2: SettingWithCopyWarning: \n",
      "A value is trying to be set on a copy of a slice from a DataFrame.\n",
      "Try using .loc[row_indexer,col_indexer] = value instead\n",
      "\n",
      "See the caveats in the documentation: https://pandas.pydata.org/pandas-docs/stable/user_guide/indexing.html#returning-a-view-versus-a-copy\n",
      "  X_test[numeric_features] = X_test[numeric_features].fillna(X_test[numeric_features].mean())\n",
      "C:\\Users\\ameya\\AppData\\Local\\Temp\\ipykernel_4332\\2497963811.py:2: SettingWithCopyWarning: \n",
      "A value is trying to be set on a copy of a slice from a DataFrame.\n",
      "Try using .loc[row_indexer,col_indexer] = value instead\n",
      "\n",
      "See the caveats in the documentation: https://pandas.pydata.org/pandas-docs/stable/user_guide/indexing.html#returning-a-view-versus-a-copy\n",
      "  X_test[numeric_features] = X_test[numeric_features].fillna(X_test[numeric_features].mean())\n",
      "C:\\Users\\ameya\\AppData\\Local\\Temp\\ipykernel_4332\\2497963811.py:2: SettingWithCopyWarning: \n",
      "A value is trying to be set on a copy of a slice from a DataFrame.\n",
      "Try using .loc[row_indexer,col_indexer] = value instead\n",
      "\n",
      "See the caveats in the documentation: https://pandas.pydata.org/pandas-docs/stable/user_guide/indexing.html#returning-a-view-versus-a-copy\n",
      "  X_test[numeric_features] = X_test[numeric_features].fillna(X_test[numeric_features].mean())\n",
      "C:\\Users\\ameya\\AppData\\Local\\Temp\\ipykernel_4332\\2497963811.py:2: SettingWithCopyWarning: \n",
      "A value is trying to be set on a copy of a slice from a DataFrame.\n",
      "Try using .loc[row_indexer,col_indexer] = value instead\n",
      "\n",
      "See the caveats in the documentation: https://pandas.pydata.org/pandas-docs/stable/user_guide/indexing.html#returning-a-view-versus-a-copy\n",
      "  X_test[numeric_features] = X_test[numeric_features].fillna(X_test[numeric_features].mean())\n",
      "C:\\Users\\ameya\\AppData\\Local\\Temp\\ipykernel_4332\\2497963811.py:2: SettingWithCopyWarning: \n",
      "A value is trying to be set on a copy of a slice from a DataFrame.\n",
      "Try using .loc[row_indexer,col_indexer] = value instead\n",
      "\n",
      "See the caveats in the documentation: https://pandas.pydata.org/pandas-docs/stable/user_guide/indexing.html#returning-a-view-versus-a-copy\n",
      "  X_test[numeric_features] = X_test[numeric_features].fillna(X_test[numeric_features].mean())\n",
      "C:\\Users\\ameya\\AppData\\Local\\Temp\\ipykernel_4332\\2497963811.py:2: SettingWithCopyWarning: \n",
      "A value is trying to be set on a copy of a slice from a DataFrame.\n",
      "Try using .loc[row_indexer,col_indexer] = value instead\n",
      "\n",
      "See the caveats in the documentation: https://pandas.pydata.org/pandas-docs/stable/user_guide/indexing.html#returning-a-view-versus-a-copy\n",
      "  X_test[numeric_features] = X_test[numeric_features].fillna(X_test[numeric_features].mean())\n",
      "C:\\Users\\ameya\\AppData\\Local\\Temp\\ipykernel_4332\\2497963811.py:2: SettingWithCopyWarning: \n",
      "A value is trying to be set on a copy of a slice from a DataFrame.\n",
      "Try using .loc[row_indexer,col_indexer] = value instead\n",
      "\n",
      "See the caveats in the documentation: https://pandas.pydata.org/pandas-docs/stable/user_guide/indexing.html#returning-a-view-versus-a-copy\n",
      "  X_test[numeric_features] = X_test[numeric_features].fillna(X_test[numeric_features].mean())\n",
      "C:\\Users\\ameya\\AppData\\Local\\Temp\\ipykernel_4332\\2497963811.py:2: SettingWithCopyWarning: \n",
      "A value is trying to be set on a copy of a slice from a DataFrame.\n",
      "Try using .loc[row_indexer,col_indexer] = value instead\n",
      "\n",
      "See the caveats in the documentation: https://pandas.pydata.org/pandas-docs/stable/user_guide/indexing.html#returning-a-view-versus-a-copy\n",
      "  X_test[numeric_features] = X_test[numeric_features].fillna(X_test[numeric_features].mean())\n",
      "C:\\Users\\ameya\\AppData\\Local\\Temp\\ipykernel_4332\\2497963811.py:2: SettingWithCopyWarning: \n",
      "A value is trying to be set on a copy of a slice from a DataFrame.\n",
      "Try using .loc[row_indexer,col_indexer] = value instead\n",
      "\n",
      "See the caveats in the documentation: https://pandas.pydata.org/pandas-docs/stable/user_guide/indexing.html#returning-a-view-versus-a-copy\n",
      "  X_test[numeric_features] = X_test[numeric_features].fillna(X_test[numeric_features].mean())\n",
      "C:\\Users\\ameya\\AppData\\Local\\Temp\\ipykernel_4332\\2497963811.py:2: SettingWithCopyWarning: \n",
      "A value is trying to be set on a copy of a slice from a DataFrame.\n",
      "Try using .loc[row_indexer,col_indexer] = value instead\n",
      "\n",
      "See the caveats in the documentation: https://pandas.pydata.org/pandas-docs/stable/user_guide/indexing.html#returning-a-view-versus-a-copy\n",
      "  X_test[numeric_features] = X_test[numeric_features].fillna(X_test[numeric_features].mean())\n",
      "C:\\Users\\ameya\\AppData\\Local\\Temp\\ipykernel_4332\\2497963811.py:2: SettingWithCopyWarning: \n",
      "A value is trying to be set on a copy of a slice from a DataFrame.\n",
      "Try using .loc[row_indexer,col_indexer] = value instead\n",
      "\n",
      "See the caveats in the documentation: https://pandas.pydata.org/pandas-docs/stable/user_guide/indexing.html#returning-a-view-versus-a-copy\n",
      "  X_test[numeric_features] = X_test[numeric_features].fillna(X_test[numeric_features].mean())\n",
      "C:\\Users\\ameya\\AppData\\Local\\Temp\\ipykernel_4332\\2497963811.py:2: SettingWithCopyWarning: \n",
      "A value is trying to be set on a copy of a slice from a DataFrame.\n",
      "Try using .loc[row_indexer,col_indexer] = value instead\n",
      "\n",
      "See the caveats in the documentation: https://pandas.pydata.org/pandas-docs/stable/user_guide/indexing.html#returning-a-view-versus-a-copy\n",
      "  X_test[numeric_features] = X_test[numeric_features].fillna(X_test[numeric_features].mean())\n",
      "C:\\Users\\ameya\\AppData\\Local\\Temp\\ipykernel_4332\\2497963811.py:2: SettingWithCopyWarning: \n",
      "A value is trying to be set on a copy of a slice from a DataFrame.\n",
      "Try using .loc[row_indexer,col_indexer] = value instead\n",
      "\n",
      "See the caveats in the documentation: https://pandas.pydata.org/pandas-docs/stable/user_guide/indexing.html#returning-a-view-versus-a-copy\n",
      "  X_test[numeric_features] = X_test[numeric_features].fillna(X_test[numeric_features].mean())\n",
      "C:\\Users\\ameya\\AppData\\Local\\Temp\\ipykernel_4332\\2497963811.py:2: SettingWithCopyWarning: \n",
      "A value is trying to be set on a copy of a slice from a DataFrame.\n",
      "Try using .loc[row_indexer,col_indexer] = value instead\n",
      "\n",
      "See the caveats in the documentation: https://pandas.pydata.org/pandas-docs/stable/user_guide/indexing.html#returning-a-view-versus-a-copy\n",
      "  X_test[numeric_features] = X_test[numeric_features].fillna(X_test[numeric_features].mean())\n"
     ]
    }
   ],
   "source": [
    "numeric_features = X_test.select_dtypes(include=[float, int]).columns\n",
    "X_test[numeric_features] = X_test[numeric_features].fillna(X_test[numeric_features].mean())"
   ]
  },
  {
   "cell_type": "code",
   "execution_count": 128,
   "id": "4cb9d034",
   "metadata": {},
   "outputs": [
    {
     "name": "stderr",
     "output_type": "stream",
     "text": [
      "C:\\ProgramData\\Anaconda3\\lib\\site-packages\\sklearn\\base.py:493: FutureWarning: The feature names should match those that were passed during fit. Starting version 1.2, an error will be raised.\n",
      "Feature names unseen at fit time:\n",
      "- ROW_ID\n",
      "Feature names seen at fit time, yet now missing:\n",
      "- benefit\n",
      "\n",
      "  warnings.warn(message, FutureWarning)\n"
     ]
    }
   ],
   "source": [
    "test_predictions = rf_classifier.predict(X_test)"
   ]
  },
  {
   "cell_type": "code",
   "execution_count": 132,
   "id": "df65b06e",
   "metadata": {},
   "outputs": [],
   "source": [
    "submission = pd.DataFrame({'Test_id': test_data['ROW_ID'], 'conversion': test_predictions})"
   ]
  },
  {
   "cell_type": "code",
   "execution_count": 133,
   "id": "3f164b10",
   "metadata": {},
   "outputs": [],
   "source": [
    "submission.to_csv('submission.csv', index=False)"
   ]
  },
  {
   "cell_type": "code",
   "execution_count": null,
   "id": "2c6c2229",
   "metadata": {},
   "outputs": [],
   "source": []
  }
 ],
 "metadata": {
  "kernelspec": {
   "display_name": "Python 3 (ipykernel)",
   "language": "python",
   "name": "python3"
  },
  "language_info": {
   "codemirror_mode": {
    "name": "ipython",
    "version": 3
   },
   "file_extension": ".py",
   "mimetype": "text/x-python",
   "name": "python",
   "nbconvert_exporter": "python",
   "pygments_lexer": "ipython3",
   "version": "3.9.13"
  }
 },
 "nbformat": 4,
 "nbformat_minor": 5
}
